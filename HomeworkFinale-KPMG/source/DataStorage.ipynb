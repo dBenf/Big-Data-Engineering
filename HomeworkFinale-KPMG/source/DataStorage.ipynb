{
  "nbformat": 4,
  "nbformat_minor": 0,
  "metadata": {
    "colab": {
      "name": "DataStorage.ipynb",
      "provenance": [],
      "collapsed_sections": [
        "r6qQO8eFjVez",
        "6BZYGhTqjYd2",
        "6oDfp5_Piqdv",
        "SxtZY2sTxtQC",
        "D3boY8KauKrS",
        "1kABni55uTz8",
        "KbvywmASuc2U",
        "zGL4MudSut52"
      ]
    },
    "kernelspec": {
      "name": "python3",
      "display_name": "Python 3"
    },
    "language_info": {
      "name": "python"
    }
  },
  "cells": [
    {
      "cell_type": "markdown",
      "source": [
        "# Pymongo Configuration"
      ],
      "metadata": {
        "id": "UwcUxHk0-Z74"
      }
    },
    {
      "cell_type": "markdown",
      "source": [
        "## Install PyMongo"
      ],
      "metadata": {
        "id": "r6qQO8eFjVez"
      }
    },
    {
      "cell_type": "code",
      "source": [
        "! python -m pip install pymongo==3.7.2"
      ],
      "metadata": {
        "id": "gYaGVZ0ejSII"
      },
      "execution_count": null,
      "outputs": []
    },
    {
      "cell_type": "markdown",
      "source": [
        "## Library Import"
      ],
      "metadata": {
        "id": "6BZYGhTqjYd2"
      }
    },
    {
      "cell_type": "code",
      "execution_count": 38,
      "metadata": {
        "id": "kjMDYubizlkp"
      },
      "outputs": [],
      "source": [
        "import json\n",
        "import pymongo\n",
        "from pymongo import MongoClient"
      ]
    },
    {
      "cell_type": "markdown",
      "source": [
        "# Import the Dataset on MongoDB"
      ],
      "metadata": {
        "id": "6oDfp5_Piqdv"
      }
    },
    {
      "cell_type": "code",
      "source": [
        "def mongoimport(csv_path, db_name, coll_name, uri):\n",
        "    client = MongoClient(uri)\n",
        "    print('[MongoDB Debug] Istanziato un nuovo client')\n",
        "    db = client[db_name]\n",
        "    coll = db[coll_name]\n",
        "    print(f'[MongoDB Debug] Creato database:{db_name} - Inserita nuova collection: {coll_name}')\n",
        "    data = pd.read_csv(csv_path)\n",
        "    payload = json.loads(data.to_json(orient='records'))\n",
        "    print('[MongoDB Debug] Lettura file csv e trasformazione in json effettuata')\n",
        "    coll.remove()\n",
        "    coll.insert(payload)\n",
        "    print('[MongoDB Debug] Record inseriti')\n",
        "    return client"
      ],
      "metadata": {
        "id": "rPdFFokDGLdm"
      },
      "execution_count": 35,
      "outputs": []
    },
    {
      "cell_type": "code",
      "source": [
        "user = 'prova'\n",
        "psw = 'prova'\n",
        "clusterA = 'cluster0-shard-00-00.pdlry.mongodb.net:27017'\n",
        "clusterB = 'cluster0-shard-00-01.pdlry.mongodb.net:27017'\n",
        "clusterC = 'cluster0-shard-00-02.pdlry.mongodb.net:27017'\n",
        "attributes = '?ssl=true&replicaSet=atlas-ih4qpa-shard-0&authSource=admin&retryWrites=true&w=majority'\n",
        "\n",
        "uri = 'mongodb://'+user+':'+psw+'@'+clusterA+','+clusterB+','+clusterC+'/'+attributes\n",
        "client = mongoimport('Dataset_completo.csv', 'Esame','Esame', uri)\n",
        "print('[MongoDB Debug] Procedura di import del file terminata')"
      ],
      "metadata": {
        "colab": {
          "base_uri": "https://localhost:8080/"
        },
        "id": "1T7NnSuQb6OJ",
        "outputId": "f8fc65a9-9250-4518-c046-0c8082660d32"
      },
      "execution_count": 37,
      "outputs": [
        {
          "output_type": "stream",
          "name": "stdout",
          "text": [
            "[MongoDB Debug] Procedura di import del file terminata\n"
          ]
        }
      ]
    },
    {
      "cell_type": "markdown",
      "source": [
        "# Post Processing of the Dataset"
      ],
      "metadata": {
        "id": "TbLZbFeSoHkx"
      }
    },
    {
      "cell_type": "markdown",
      "source": [
        "## Creation of a Cursor for the collection"
      ],
      "metadata": {
        "id": "SxtZY2sTxtQC"
      }
    },
    {
      "cell_type": "code",
      "source": [
        "print(f'Lista Database su Mongo: {client.list_database_names()}')"
      ],
      "metadata": {
        "colab": {
          "base_uri": "https://localhost:8080/"
        },
        "id": "I3X2BOU8jrux",
        "outputId": "ebccd149-d821-4e77-8240-ac1f7e8ae1da"
      },
      "execution_count": 29,
      "outputs": [
        {
          "output_type": "stream",
          "name": "stdout",
          "text": [
            "Lista Database su Mongo: ['Esame', 'Prova_Esame_Mimmo', 'Risultati_esame', 'prova', 'admin', 'local']\n"
          ]
        }
      ]
    },
    {
      "cell_type": "code",
      "source": [
        "collection = client.Esame.Esame\n",
        "print('[MongoDB Debug] Definita una nuova istanza della collection')"
      ],
      "metadata": {
        "colab": {
          "base_uri": "https://localhost:8080/"
        },
        "id": "cZHYAhoVnK3S",
        "outputId": "0a556fbd-49b9-4964-f4d0-f738b54a336e"
      },
      "execution_count": 30,
      "outputs": [
        {
          "output_type": "stream",
          "name": "stdout",
          "text": [
            "[MongoDB Debug] Definita una nuova istanza della collection\n"
          ]
        }
      ]
    },
    {
      "cell_type": "markdown",
      "source": [
        "## Delete Zero-attribute on String value"
      ],
      "metadata": {
        "id": "D3boY8KauKrS"
      }
    },
    {
      "cell_type": "code",
      "source": [
        "collection.update_many({\"Sesso\" :\"0\"},{\"$unset\":{\"Sesso\":\"\"}})\n",
        "collection.update_many({\"Anno\" :\"0\"},{\"$unset\":{\"Anno\":\"\"}})\n",
        "collection.update_many({\"ResidenzaP\" :\"0\"},{\"$unset\":{\"ResidenzaP\":\"\"}})\n",
        "collection.update_many({\"AteneoNOME\" :\"0\"},{\"$unset\":{\"AteneoNOME\":\"\"}})\n",
        "collection.update_many({\"Tipo Ateneo\" :\"0\"},{\"$unset\":{\"Tipo Ateneo\":\"\"}})\n",
        "collection.update_many({\"Corso Laurea\" :\"0\"},{\"$unset\":{\"Corso Laurea\":\"\"}})\n",
        "\n",
        "print('[MongoDB Debug] Rimozione degli zeri nei campi stringa effettuata')"
      ],
      "metadata": {
        "colab": {
          "base_uri": "https://localhost:8080/"
        },
        "id": "DhG1Geg4uSBT",
        "outputId": "ebd41937-afe3-41d8-b132-07b266dbf420"
      },
      "execution_count": 31,
      "outputs": [
        {
          "output_type": "stream",
          "name": "stdout",
          "text": [
            "[MongoDB Debug] Rimozione degli zeri nei campi stringa effettuata\n"
          ]
        }
      ]
    },
    {
      "cell_type": "markdown",
      "source": [
        "## Delete Null value in Iscritti Section"
      ],
      "metadata": {
        "id": "1kABni55uTz8"
      }
    },
    {
      "cell_type": "code",
      "source": [
        "collection.update_many({\"ResidenzaP\":{\"$ne\" : \"0\"}},{\"$unset\" : {\"Internet\":\"\"}})\n",
        "collection.update_many({\"ResidenzaP\":{\"$ne\" : \"0\"}},{\"$unset\" : {\"Biblioteche\":\"\"}})\n",
        "collection.update_many({\"ResidenzaP\":{\"$ne\" : \"0\"}},{\"$unset\" : {\"Occupazione\":\"\"}})\n",
        "collection.update_many({\"ResidenzaP\":{\"$ne\" : \"0\"}},{\"$unset\" : {\"Inquinamento\":\"\"}})\n",
        "collection.update_many({\"ResidenzaP\":{\"$ne\" : \"0\"}},{\"$unset\" : {\"Criminalita\":\"\"}})\n",
        "collection.update_many({\"ResidenzaP\":{\"$ne\" : \"0\"}},{\"$unset\" : {\"Rumori\":\"\"}})\n",
        "collection.update_many({\"ResidenzaP\":{\"$ne\" : \"0\"}},{\"$unset\" : {\"Strade\":\"\"}})\n",
        "collection.update_many({\"ResidenzaP\":{\"$ne\" : \"0\"}},{\"$unset\" : {\"Parcheggio\":\"\"}})\n",
        "collection.update_many({\"ResidenzaP\":{\"$ne\" : \"0\"}},{\"$unset\" : {\"Traffico\":\"\"}})\n",
        "collection.update_many({\"ResidenzaP\":{\"$ne\" : \"0\"}},{\"$unset\" : {\"Illuminazione\":\"\"}})\n",
        "collection.update_many({\"ResidenzaP\":{\"$ne\" : \"0\"}},{\"$unset\" : {\"Punteggio\":\"\"}})\n",
        "collection.update_many({\"ResidenzaP\":{\"$ne\" : \"0\"}},{\"$unset\" : {\"Tipo Ateneo\":\"\"}})\n",
        "collection.update_many({\"ResidenzaP\":{\"$ne\" : \"0\"}},{\"$unset\" : {\"Sesso\":\"\"}})\n",
        "collection.update_many({\"ResidenzaP\":{\"$ne\" : \"0\"}},{\"$unset\" : {\"Corso Laurea\":\"\"}})\n",
        "collection.update_many({\"ResidenzaP\":{\"$ne\" : \"0\"}},{\"$unset\" : {\"Laureati\":\"\"}})\n",
        "\n",
        "print('[MongoDB Debug] Rimozione dei campi opzionali dalla sezione iscritti terminata')"
      ],
      "metadata": {
        "colab": {
          "base_uri": "https://localhost:8080/"
        },
        "id": "3Ojrn9kXuTkL",
        "outputId": "ed7a9e08-22ab-49fb-85f2-0c7cb003520e"
      },
      "execution_count": 32,
      "outputs": [
        {
          "output_type": "stream",
          "name": "stdout",
          "text": [
            "[MongoDB Debug] Rimozione dei campi opzionali dalla sezione iscritti terminata\n"
          ]
        }
      ]
    },
    {
      "cell_type": "markdown",
      "source": [
        "## Delete Null value in Punteggi Section"
      ],
      "metadata": {
        "id": "KbvywmASuc2U"
      }
    },
    {
      "cell_type": "code",
      "source": [
        "collection.update_many({\"Punteggio\":{\"$ne\" : \"0\"}},{\"$unset\" : {\"AteneoNOME\":\"\"}})\n",
        "collection.update_many({\"Punteggio\":{\"$ne\" : \"0\"}},{\"$unset\" : {\"ResidenzaP\":\"\"}})\n",
        "collection.update_many({\"Punteggio\":{\"$ne\" : \"0\"}},{\"$unset\" : {\"Isc\":\"\"}})\n",
        "collection.update_many({\"Punteggio\":{\"$ne\" : \"0\"}},{\"$unset\" : {\"Anno\":\"\"}})\n",
        "collection.update_many({\"Punteggio\":{\"$ne\" : \"0\"}},{\"$unset\" : {\"Tipo Ateneo\":\"\"}})\n",
        "collection.update_many({\"Punteggio\":{\"$ne\" : \"0\"}},{\"$unset\" : {\"Sesso\":\"\"}})\n",
        "collection.update_many({\"Punteggio\":{\"$ne\" : \"0\"}},{\"$unset\" : {\"Corso Laurea\":\"\"}})\n",
        "collection.update_many({\"Punteggio\":{\"$ne\" : \"0\"}},{\"$unset\" : {\"Laureati\":\"\"}})\n",
        "\n",
        "print('[MongoDB Debug] Rimozione dei campi opzionali dalla sezione punteggi terminata')"
      ],
      "metadata": {
        "colab": {
          "base_uri": "https://localhost:8080/"
        },
        "id": "fFDz3IrcDPMn",
        "outputId": "b8bfdf42-0c21-4d83-a52a-9e14d2f8124e"
      },
      "execution_count": 33,
      "outputs": [
        {
          "output_type": "stream",
          "name": "stdout",
          "text": [
            "[MongoDB Debug] Rimozione dei campi opzionali dalla sezione punteggi terminata\n"
          ]
        }
      ]
    },
    {
      "cell_type": "markdown",
      "source": [
        "## Delete Null value in Laureati Section"
      ],
      "metadata": {
        "id": "zGL4MudSut52"
      }
    },
    {
      "cell_type": "code",
      "source": [
        "collection.update_many({\"Corso Laurea\":{\"$ne\" : \"0\"}},{\"$unset\" : {\"AteneoNOME\":\"\"}})\n",
        "collection.update_many({\"Corso Laurea\":{\"$ne\" : \"0\"}},{\"$unset\" : {\"ResidenzaP\":\"\"}})\n",
        "collection.update_many({\"Corso Laurea\":{\"$ne\" : \"0\"}},{\"$unset\" : {\"Isc\":\"\"}})\n",
        "collection.update_many({\"Corso Laurea\":{\"$ne\" : \"0\"}},{\"$unset\" : {\"Internet\":\"\"}})\n",
        "collection.update_many({\"Corso Laurea\":{\"$ne\" : \"0\"}},{\"$unset\" : {\"Biblioteche\":\"\"}})\n",
        "collection.update_many({\"Corso Laurea\":{\"$ne\" : \"0\"}},{\"$unset\" : {\"Occupazione\":\"\"}})\n",
        "collection.update_many({\"Corso Laurea\":{\"$ne\" : \"0\"}},{\"$unset\" : {\"Inquinamento\":\"\"}})\n",
        "collection.update_many({\"Corso Laurea\":{\"$ne\" : \"0\"}},{\"$unset\" : {\"Criminalita\":\"\"}})\n",
        "collection.update_many({\"Corso Laurea\":{\"$ne\" : \"0\"}},{\"$unset\" : {\"Rumori\":\"\"}})\n",
        "collection.update_many({\"Corso Laurea\":{\"$ne\" : \"0\"}},{\"$unset\" : {\"Strade\":\"\"}})\n",
        "collection.update_many({\"Corso Laurea\":{\"$ne\" : \"0\"}},{\"$unset\" : {\"Parcheggio\":\"\"}})\n",
        "collection.update_many({\"Corso Laurea\":{\"$ne\" : \"0\"}},{\"$unset\" : {\"Traffico\":\"\"}})\n",
        "collection.update_many({\"Corso Laurea\":{\"$ne\" : \"0\"}},{\"$unset\" : {\"Illuminazione\":\"\"}})\n",
        "collection.update_many({\"Corso Laurea\":{\"$ne\" : \"0\"}},{\"$unset\" : {\"Punteggio\":\"\"}})\n",
        "\n",
        "print('[MongoDB Debug] Rimozione dei campi opzionali dalla sezione laureati terminata')"
      ],
      "metadata": {
        "colab": {
          "base_uri": "https://localhost:8080/"
        },
        "id": "cOTBRM0EuxiH",
        "outputId": "a3c0fc28-175f-4a86-f96d-7a38207f3eab"
      },
      "execution_count": 34,
      "outputs": [
        {
          "output_type": "stream",
          "name": "stdout",
          "text": [
            "[MongoDB Debug] Rimozione dei campi opzionali dalla sezione laureati terminata\n"
          ]
        }
      ]
    }
  ]
}