{
  "nbformat": 4,
  "nbformat_minor": 0,
  "metadata": {
    "colab": {
      "name": "DataAnalysisAndAnalysisStorage.ipynb",
      "provenance": [],
      "collapsed_sections": [
        "XfFf3fKoI0LL",
        "-GNezIXWKEjT",
        "jKa9GstXKopt",
        "uZ1buBNVK7Ie",
        "ByD164coLDhJ",
        "R-ZUoHBTL8nS",
        "DuoGyJ1LMEGJ",
        "TUrQ4TpSSKMY",
        "JgxthujaS2mG",
        "qe5pbSoDThnU",
        "TfSAEMafVl4l",
        "MPKq3CsxVtOA",
        "S9N4oH7rXffT"
      ],
      "toc_visible": true
    },
    "kernelspec": {
      "name": "python3",
      "display_name": "Python 3"
    },
    "language_info": {
      "name": "python"
    }
  },
  "cells": [
    {
      "cell_type": "markdown",
      "source": [
        "# Data Analysis & Analysis Storage"
      ],
      "metadata": {
        "id": "-pRuGvj3IlNC"
      }
    },
    {
      "cell_type": "markdown",
      "source": [
        "## Spark Configuration"
      ],
      "metadata": {
        "id": "FNYd3r-HIvKq"
      }
    },
    {
      "cell_type": "markdown",
      "source": [
        "### Download Spark"
      ],
      "metadata": {
        "id": "XfFf3fKoI0LL"
      }
    },
    {
      "cell_type": "code",
      "execution_count": null,
      "metadata": {
        "id": "5qIrth1bIkAW"
      },
      "outputs": [],
      "source": [
        "!apt install openjdk-8-jre-headless -qq > /dev/null\n",
        "# download spark3.0.0\n",
        "!wget -q http://apache.osuosl.org/spark/spark-3.2.1/spark-3.2.1-bin-hadoop3.2.tgz\n",
        "# unzip it\n",
        "!tar xf spark-3.2.1-bin-hadoop3.2.tgz\n",
        "# install findspark \n",
        "!pip install -q findspark"
      ]
    },
    {
      "cell_type": "markdown",
      "source": [
        "### Library Import"
      ],
      "metadata": {
        "id": "zBxQWUaEI4k8"
      }
    },
    {
      "cell_type": "code",
      "source": [
        "import os\n",
        "import findspark\n",
        "from pyspark.sql import SparkSession\n",
        "from pyspark.sql.types import *\n",
        "import pyspark.sql.functions as F\n",
        "from pyspark.sql.functions import col, avg\n",
        "\n",
        "from pyspark.ml.clustering import KMeans\n",
        "from pyspark.ml.evaluation import ClusteringEvaluator\n",
        "from pyspark.ml.feature import VectorAssembler\n",
        "from pyspark.ml.clustering import GaussianMixture\n",
        "from pyspark.ml.clustering import BisectingKMeans"
      ],
      "metadata": {
        "id": "dA1pjOwuI7Ad"
      },
      "execution_count": null,
      "outputs": []
    },
    {
      "cell_type": "markdown",
      "source": [
        "## Configuration and Starting of SparkSession"
      ],
      "metadata": {
        "id": "-GNezIXWKEjT"
      }
    },
    {
      "cell_type": "code",
      "source": [
        "os.environ[\"JAVA_HOME\"] = \"/usr/lib/jvm/java-8-openjdk-amd64\"\n",
        "os.environ[\"SPARK_HOME\"] = \"/content/spark-3.2.1-bin-hadoop3.2\"\n",
        "\n",
        "findspark.init()\n",
        "spark = SparkSession.builder.appName('Homework').getOrCreate()"
      ],
      "metadata": {
        "id": "NQhWIE0PKIu7"
      },
      "execution_count": null,
      "outputs": []
    },
    {
      "cell_type": "markdown",
      "source": [
        "## Spark DataFrame creation using MongoDB"
      ],
      "metadata": {
        "id": "vMM9bmTJKgvl"
      }
    },
    {
      "cell_type": "markdown",
      "source": [
        "### MongoDB configuration"
      ],
      "metadata": {
        "id": "jKa9GstXKopt"
      }
    },
    {
      "cell_type": "code",
      "source": [
        "! python -m pip install pymongo==3.7.2"
      ],
      "metadata": {
        "id": "r8sFJ4mkKtQd"
      },
      "execution_count": null,
      "outputs": []
    },
    {
      "cell_type": "markdown",
      "source": [
        "### Library Import"
      ],
      "metadata": {
        "id": "uZ1buBNVK7Ie"
      }
    },
    {
      "cell_type": "code",
      "source": [
        "import datetime\n",
        "import pymongo\n",
        "from pymongo import MongoClient"
      ],
      "metadata": {
        "id": "UFlHw94tK_bu"
      },
      "execution_count": null,
      "outputs": []
    },
    {
      "cell_type": "markdown",
      "source": [
        "### MongoDB connection"
      ],
      "metadata": {
        "id": "ByD164coLDhJ"
      }
    },
    {
      "cell_type": "code",
      "source": [
        "user = 'prova'\n",
        "psw = 'prova'\n",
        "clusterA = 'cluster0-shard-00-00.pdlry.mongodb.net:27017'\n",
        "clusterB = 'cluster0-shard-00-01.pdlry.mongodb.net:27017'\n",
        "clusterC = 'cluster0-shard-00-02.pdlry.mongodb.net:27017'\n",
        "attributes = '?ssl=true&replicaSet=atlas-ih4qpa-shard-0&authSource=admin&retryWrites=true&w=majority'\n",
        "\n",
        "uri = 'mongodb://'+user+':'+psw+'@'+clusterA+','+clusterB+','+clusterC+'/'+attributes\n",
        "\n",
        "client = MongoClient( uri )\n",
        "\n",
        "collection = client.Esame.Esame\n",
        "coll_df = list(collection.find({},{\"Territorio\":\"$Territorio\",\n",
        "                                   \"Anno\":\"$Anno\",\n",
        "                                   \"ResidenzaP\":\"$ResidenzaP\",\n",
        "                                   \"AteneoNOME\":\"$AteneoNOME\",\n",
        "                                   \"Isc\":\"$Isc\",\n",
        "                                   \"Internet\":\"$Internet\",\n",
        "                                   \"Occupazione\":\"$Occupazione\",\n",
        "                                   \"Biblioteche\":\"$Biblioteche\",\n",
        "                                   \"Punteggio\":\"$Punteggio\",\n",
        "                                   \"Tipo Ateneo\":\"$Tipo Ateneo\",\n",
        "                                   \"Sesso\":\"$Sesso\",\n",
        "                                   \"Laureati\":\"$Laureati\",\n",
        "                                   \"Corso Laurea\":\"$Corso Laurea\"}))"
      ],
      "metadata": {
        "id": "a0TkadSGK1o-"
      },
      "execution_count": null,
      "outputs": []
    },
    {
      "cell_type": "markdown",
      "source": [
        "### From list to Dataframe Pandas "
      ],
      "metadata": {
        "id": "R-ZUoHBTL8nS"
      }
    },
    {
      "cell_type": "code",
      "source": [
        "import pandas as pd\n",
        "\n",
        "df_pandas = pd.DataFrame(coll_df)\n",
        "df_pandas = df_pandas.drop([\"_id\"],axis=1)"
      ],
      "metadata": {
        "id": "RCRnpoE2MD4M"
      },
      "execution_count": null,
      "outputs": []
    },
    {
      "cell_type": "markdown",
      "source": [
        "### From Dataframe Pandas to Spark DataFrame"
      ],
      "metadata": {
        "id": "DuoGyJ1LMEGJ"
      }
    },
    {
      "cell_type": "code",
      "source": [
        "def equivalent_type(f):\n",
        "    if f == 'datetime64[ns]': return TimestampType()\n",
        "    elif f == 'int64': return LongType()\n",
        "    elif f == 'int32': return IntegerType()\n",
        "    elif f == 'float64': return DoubleType()\n",
        "    elif f == 'float32': return FloatType()\n",
        "    else: return StringType()\n",
        "\n",
        "def define_structure(string, format_type):\n",
        "    try: typo = equivalent_type(format_type)\n",
        "    except: typo = StringType()\n",
        "    return StructField(string, typo)\n",
        "\n",
        "def pandas_to_spark(pandas_df):\n",
        "    columns = list(pandas_df.columns)\n",
        "    types = list(pandas_df.dtypes)\n",
        "    struct_list = []\n",
        "    for column, typo in zip(columns, types): \n",
        "      struct_list.append(define_structure(column, typo))\n",
        "    p_schema = StructType(struct_list)\n",
        "    return spark.createDataFrame(pandas_df, p_schema)\n",
        "\n",
        "Dataset = pandas_to_spark(df_pandas)"
      ],
      "metadata": {
        "id": "Vz4mZv7zMIiq"
      },
      "execution_count": null,
      "outputs": []
    },
    {
      "cell_type": "markdown",
      "source": [
        "## Data Analysis"
      ],
      "metadata": {
        "id": "H0UIElB2PtbF"
      }
    },
    {
      "cell_type": "markdown",
      "source": [
        "### 1. Checking whether the quality of the area indicates a higher number of enrolled students"
      ],
      "metadata": {
        "id": "uFyKDlIbPv-j"
      }
    },
    {
      "cell_type": "code",
      "source": [
        "Iscxterr = Dataset.groupBy(\"Territorio\").sum(\"Isc\").withColumnRenamed(\"sum(Isc)\", \"Iscritti\")\n",
        "Iscxterrord = Iscxterr.orderBy(\"Iscritti\",ascending=False)\n",
        "\n",
        "puntxterr = Dataset.groupBy(\"Territorio\").sum(\"Punteggio\").withColumnRenamed(\"sum(Punteggio)\", \"Punteggio\")\n",
        "puntxterrord = puntxterr.orderBy(\"Punteggio\",ascending=False)\n",
        "\n",
        "Iscxterrord.show()\n",
        "puntxterrord.show()"
      ],
      "metadata": {
        "id": "k61G7aBXQKuh"
      },
      "execution_count": null,
      "outputs": []
    },
    {
      "cell_type": "markdown",
      "source": [
        "### 2. Region where it is most difficult to graduate"
      ],
      "metadata": {
        "id": "emd6c-12RtkF"
      }
    },
    {
      "cell_type": "code",
      "source": [
        "Lauxreg = Dataset.groupBy(\"Territorio\").sum(\"Laureati\").withColumnRenamed(\"sum(Laureati)\", \"Laureati\")\n",
        "Lauxregord = Lauxreg.orderBy(\"Laureati\",ascending=False)\n",
        "\n",
        "Diff_laurea = Iscxterrord.alias(\"a\").join(Lauxregord.alias(\"b\"), Iscxterrord['Territorio'] == \n",
        "                                     Lauxregord['Territorio']).select(\"a.Territorio\", \"a.Iscritti\", \"b.Laureati\")\n",
        "Diff_laurea = Diff_laurea.withColumn(\"Rapporto\", (F.col(\"Laureati\") / F.col(\"Iscritti\")))\n",
        "Diff_laurea = Diff_laurea.orderBy(\"Rapporto\",ascending=False)\n",
        "Diff_laurea.show()"
      ],
      "metadata": {
        "id": "FLfW3RygR3RD"
      },
      "execution_count": null,
      "outputs": []
    },
    {
      "cell_type": "markdown",
      "source": [
        "### 3. University with the highest number of enrolled students out of the regional total"
      ],
      "metadata": {
        "id": "4iQ3A-XJSSyl"
      }
    },
    {
      "cell_type": "code",
      "source": [
        "Iscxreg = Dataset.groupBy(\"Territorio\").sum(\"Isc\").withColumnRenamed(\"sum(Isc)\", \"Iscritti per Territorio\")\n",
        "resultset = Dataset.groupBy(\"AteneoNOME\").sum(\"Isc\");\n",
        "Iscxateneo = Dataset.join(resultset, \"AteneoNOME\");\n",
        "Iscxateneo = Iscxateneo.drop(\"Anno\",\"Isc\",\"ResidenzaP\",\"_id\",\"Internet\", \"Occupazione\", \n",
        "                             \"Punteggio\",\"Tipo Ateneo\", \"Sesso\", \"Laureati\",\"Corso Laurea\").\\\n",
        "                             withColumnRenamed(\"sum(Isc)\",\"Iscritti per ateneo\")\n",
        "Num_isc_ateneo = Iscxateneo.join(Iscxterr,\"Territorio\")\n",
        "Num_isc_ateneo = Num_isc_ateneo.withColumn(\"Rapporto\", (F.col(\"Iscritti per Ateneo\") / F.col(\"Iscritti per Territorio\")))\n",
        "Num_isc_ateneo = Num_isc_ateneo.groupBy(\"AteneoNOME\").max(\"Rapporto\")\n",
        "Num_isc_ateneo = Num_isc_ateneo.orderBy(\"max(Rapporto)\",ascending=False)\n",
        "Num_isc_ateneo.show()"
      ],
      "metadata": {
        "id": "5lfTWsWdSeA4"
      },
      "execution_count": null,
      "outputs": []
    },
    {
      "cell_type": "markdown",
      "source": [
        "### 4. Male and female graduates by degree course"
      ],
      "metadata": {
        "id": "h267IT9-S7EZ"
      }
    },
    {
      "cell_type": "code",
      "source": [
        "Lauxcorso = Dataset.groupBy(\"Corso Laurea\").sum(\"Laureati\").withColumnRenamed(\"sum(Laureati)\", \"Laureati per Corso di Laurea\")\n",
        "Lauxcorso = Lauxcorso.orderBy(\"Laureati per Corso di Laurea\",ascending = False)\n",
        "\n",
        "Lauxcorsomasc = Dataset.where(\"Sesso = 'maschi'\").groupBy(\"Corso Laurea\").sum(\"Laureati\").withColumnRenamed(\"sum(Laureati)\", \"Laureati per Corso di Laurea maschi\")\n",
        "Lauxcorsomasc = Lauxcorsomasc.orderBy(\"Laureati per Corso di Laurea maschi\",ascending = False)\n",
        "\n",
        "Lauxcorsofemmine = Dataset.where(\"Sesso = 'femmine'\").groupBy(\"Corso Laurea\").sum(\"Laureati\").withColumnRenamed(\"sum(Laureati)\", \"Laureati per Corso di Laurea femmine\")\n",
        "Lauxcorsofemmine = Lauxcorsofemmine.orderBy(\"Laureati per Corso di Laurea femmine\",ascending = False)\n",
        "\n",
        "Lau_M_F = Lauxcorsofemmine.join(Lauxcorsomasc,\"Corso Laurea\")\n",
        "Lau_M_F = Lau_M_F.join(Lauxcorso,\"Corso Laurea\")\n",
        "Lau_M_F = Lau_M_F.withColumn(\"Percentuale maschi\", (F.col(\"Laureati per Corso di Laurea maschi\") / F.col(\"Laureati per Corso di Laurea\")))\n",
        "Lau_M_F = Lau_M_F.withColumn(\"Percentuale femmine\", (F.col(\"Laureati per Corso di Laurea femmine\") / F.col(\"Laureati per Corso di Laurea\")))\n",
        "Lau_M = Lau_M_F.orderBy(\"Percentuale maschi\",ascending=False)\n",
        "Lau_F = Lau_M_F.orderBy(\"Percentuale femmine\",ascending=False)\n",
        "\n",
        "Lau_M.show()\n",
        "Lau_F.show()"
      ],
      "metadata": {
        "id": "pSsHj1khTC0g"
      },
      "execution_count": null,
      "outputs": []
    },
    {
      "cell_type": "markdown",
      "source": [
        "### 5. Degree course with more graduates"
      ],
      "metadata": {
        "id": "j-zsxL-QXG8v"
      }
    },
    {
      "cell_type": "code",
      "source": [
        "Lau_per_corso = Dataset.groupBy(\"Corso Laurea\").sum(\"Laureati\").withColumnRenamed(\"sum(Laureati)\", \"Laureati per Corso Laurea\")\n",
        "Lau_per_corso = Lau_per_corso.orderBy(\"Laureati per corso Laurea\",ascending=False)\n",
        "Lau_per_corso.show()"
      ],
      "metadata": {
        "id": "G80Qs7DJXJpn"
      },
      "execution_count": null,
      "outputs": []
    },
    {
      "cell_type": "markdown",
      "source": [
        "### 6. Degree course by region with the highest number of graduates"
      ],
      "metadata": {
        "id": "b736zor4Xqi9"
      }
    },
    {
      "cell_type": "code",
      "source": [
        "Lauxterr = Dataset.groupBy(\"Territorio\").sum(\"Laureati\").withColumnRenamed(\"sum(Laureati)\", \"Laureati per Territorio\")\n",
        "Corsixterr = Dataset.groupBy(\"Territorio\",\"Corso Laurea\").sum(\"Laureati\").withColumnRenamed(\"sum(Laureati)\", \"Laureati per Corso e regione\")\n",
        "Corsixterrmax = Corsixterr.groupby(\"Territorio\").max(\"Laureati per Corso e regione\").withColumnRenamed(\"max(Laureati per Corso e regione)\", \"Laureati per Corso e regione\")\n",
        "Corsixterrmax = Corsixterrmax.withColumnRenamed(\"Territorio\", \"Territorio2\")\n",
        "Lau_corso_reg = Corsixterrmax.join(Corsixterr,\"Laureati per Corso e regione\")\n",
        "Lau_corso_reg = Lau_corso_reg.where(\"Territorio = Territorio2\")\n",
        "Lau_corso_reg = Lau_corso_reg.drop(\"Territorio2\")\n",
        "Lau_corso_reg = Lau_corso_reg.orderBy(\"Laureati per Corso e regione\",ascending= False)\n",
        "Lau_corso_reg.show()"
      ],
      "metadata": {
        "id": "uTvx297OXsgr"
      },
      "execution_count": null,
      "outputs": []
    },
    {
      "cell_type": "markdown",
      "source": [
        "## Machine Learning"
      ],
      "metadata": {
        "id": "apj0Sm75SH8m"
      }
    },
    {
      "cell_type": "markdown",
      "source": [
        "### Remove undesired columns"
      ],
      "metadata": {
        "id": "TUrQ4TpSSKMY"
      }
    },
    {
      "cell_type": "code",
      "source": [
        "training = Dataset.groupBy(\"Territorio\").sum(\"Punteggio\").withColumnRenamed(\"sum(Punteggio)\", \"Punteggio\")\n",
        "lista = training.columns\n",
        "lista.pop(0)    # Remove 'Territorio' col\n",
        "lista.pop(-1)   # Remove 'Punteggio' col\n",
        "lista.pop(1)    # Remove 'Biblioteche' col"
      ],
      "metadata": {
        "id": "fvoleC5ESQKb"
      },
      "execution_count": null,
      "outputs": []
    },
    {
      "cell_type": "markdown",
      "source": [
        "### K-means Implementation"
      ],
      "metadata": {
        "id": "JgxthujaS2mG"
      }
    },
    {
      "cell_type": "code",
      "source": [
        "vecAssembler = VectorAssembler(inputCols=lista, outputCol=\"features\")\n",
        "vector_df = vecAssembler.transform(Dataset)\n",
        "\n",
        "kmeans = KMeans().setK(3).setSeed(1)\n",
        "model = kmeans.fit(vector_df)\n",
        "\n",
        "predictions = model.transform(vector_df)\n",
        "\n",
        "evaluator = ClusteringEvaluator()\n",
        "\n",
        "silhouette = evaluator.evaluate(predictions)\n",
        "print(\"Silhouette with squared euclidean distance = \" + str(silhouette))\n",
        "\n",
        "centers = model.clusterCenters()\n",
        "print(\"Cluster Centers: \")\n",
        "for center in centers:\n",
        "    print(center)"
      ],
      "metadata": {
        "id": "4ucRWkk7S6te"
      },
      "execution_count": null,
      "outputs": []
    },
    {
      "cell_type": "markdown",
      "source": [
        "### K-means Results"
      ],
      "metadata": {
        "id": "qe5pbSoDThnU"
      }
    },
    {
      "cell_type": "code",
      "source": [
        "predizioneKM = model.transform(vector_df).select(\"Territorio\",\"prediction\")\n",
        "predizioneKM.show()"
      ],
      "metadata": {
        "id": "gK9zWtj2TkNF"
      },
      "execution_count": null,
      "outputs": []
    },
    {
      "cell_type": "markdown",
      "source": [
        "### Gaussian Mixture Model Implementation"
      ],
      "metadata": {
        "id": "TfSAEMafVl4l"
      }
    },
    {
      "cell_type": "code",
      "source": [
        "vecAssembler2 = VectorAssembler(inputCols=lista, outputCol=\"features\")\n",
        "vector_df2 = vecAssembler2.transform(Dataset2)\n",
        "\n",
        "gmm = GaussianMixture().setK(3).setSeed(538009335)\n",
        "modelGMM = gmm.fit(vector_df2)\n",
        "\n",
        "print(\"Gaussians shown as a DataFrame: \")\n",
        "modelGMM.gaussiansDF.show(truncate=False)"
      ],
      "metadata": {
        "id": "jLLX2hAjVoby"
      },
      "execution_count": null,
      "outputs": []
    },
    {
      "cell_type": "markdown",
      "source": [
        "### Gaussian Mixture Model Results"
      ],
      "metadata": {
        "id": "MPKq3CsxVtOA"
      }
    },
    {
      "cell_type": "code",
      "source": [
        "predizioneGMM = modelGMM.transform(vector_df2).select(\"Territorio\",\"prediction\")\n",
        "predizioneGMM.show()"
      ],
      "metadata": {
        "id": "tCU78nK0Vq9Q"
      },
      "execution_count": null,
      "outputs": []
    },
    {
      "cell_type": "markdown",
      "source": [
        "### Bisecting K-means Implementation"
      ],
      "metadata": {
        "id": "S9N4oH7rXffT"
      }
    },
    {
      "cell_type": "code",
      "source": [
        "vecAssembler3 = VectorAssembler(inputCols=lista, outputCol=\"features\")\n",
        "vector_df3 = vecAssembler3.transform(Dataset2)\n",
        "\n",
        "bkm = BisectingKMeans().setK(3).setSeed(1)\n",
        "modelBKM = bkm.fit(vector_df3)\n",
        "\n",
        "predictions = modelBMK.transform(vector_df3)\n",
        "\n",
        "evaluator = ClusteringEvaluator()\n",
        "\n",
        "silhouetteBKM = evaluator.evaluate(predictions)\n",
        "print(\"Silhouette with squared euclidean distance = \" + str(silhouetteBKM))\n",
        "\n",
        "print(\"Cluster Centers: \")\n",
        "centers = modelBMK.clusterCenters()\n",
        "for center in centers:\n",
        "    print(center)"
      ],
      "metadata": {
        "id": "5kvREosBXjIo"
      },
      "execution_count": null,
      "outputs": []
    },
    {
      "cell_type": "markdown",
      "source": [
        "### Bisecting K-means Results"
      ],
      "metadata": {
        "id": "75A7oe9TXjfH"
      }
    },
    {
      "cell_type": "code",
      "source": [
        "predizioneBKM = modelBKM.transform(vector_df3).select(\"Territorio\",\"prediction\")\n",
        "predizioneBKM.show()"
      ],
      "metadata": {
        "id": "Yv8Q-wU7XpF4"
      },
      "execution_count": null,
      "outputs": []
    },
    {
      "cell_type": "markdown",
      "source": [
        "## Analysis Storage"
      ],
      "metadata": {
        "id": "7Gr3m_c4zSTV"
      }
    },
    {
      "cell_type": "markdown",
      "source": [
        "### Creation of New Database for Results"
      ],
      "metadata": {
        "id": "px08kAXqzVAW"
      }
    },
    {
      "cell_type": "code",
      "source": [
        "nuovodatabase = client[\"Risultati_esame\"]"
      ],
      "metadata": {
        "id": "LcbpXOvjzZYB"
      },
      "execution_count": null,
      "outputs": []
    },
    {
      "cell_type": "code",
      "source": [
        "\\begin{lstlisting}[language=python]\n",
        "\n",
        "\n",
        "\n",
        "\\subsection{Difficoltà di laurea per regione}\n",
        "\\begin{lstlisting}[language=python]\n",
        "\n",
        "\\end{lstlisting}\n",
        "\n",
        "\\subsection{Atenei con più iscritti nella regione}\n",
        "\\begin{lstlisting}[language=python]\n",
        "\n",
        "\\end{lstlisting}\n",
        "\n",
        "\\subsection{Studenti maschi e femmine per corso di studi}\n",
        "\\begin{lstlisting}[language=python]\n",
        "\n",
        "\\end{lstlisting}\n",
        "\n",
        "\\subsection{Corso di laurea con più laureati}\n",
        "\\begin{lstlisting}[language=python]\n",
        "\n",
        "\\end{lstlisting}\n",
        "\n",
        "\\subsection{Distribuzione dei laureati per corso di laurea nella regione}\n",
        "\\begin{lstlisting}[language=python]\n",
        "\n",
        "\\end{lstlisting}"
      ],
      "metadata": {
        "id": "JYv61C8x13h8"
      },
      "execution_count": null,
      "outputs": []
    },
    {
      "cell_type": "markdown",
      "source": [
        "### Analysis 1 Storage: Score VS Enrolling"
      ],
      "metadata": {
        "id": "BTXg9UlYzcf-"
      }
    },
    {
      "cell_type": "code",
      "source": [
        "join_collection = nuovodatabase[\"Iscritti_per_territorio\"]\n",
        "join_mongo = Iscxterrord.toPandas()\n",
        "join_mongo.reset_index(level=0, inplace=True)\n",
        "join_collection.insert_many(Iscxterrord.toPandas().to_dict('records'))\n",
        "\n",
        "join_collection = nuovodatabase[\"Punteggio_per_territorio\"]\n",
        "join_mongo = puntxterrord.toPandas()\n",
        "join_mongo.reset_index(level=0, inplace=True)\n",
        "join_collection.insert_many(puntxterrord.toPandas().to_dict('records'))"
      ],
      "metadata": {
        "id": "fVMWxFeIzqPA"
      },
      "execution_count": null,
      "outputs": []
    },
    {
      "cell_type": "markdown",
      "source": [
        "### Analysis 2 Storage: Degree difficulties per regions"
      ],
      "metadata": {
        "id": "6GnfS_jEzhcG"
      }
    },
    {
      "cell_type": "code",
      "source": [
        "join_collection = nuovodatabase[\"Regioni_per_difficoltà_di_laurea\"]\n",
        "join_mongo = Diff_laurea.toPandas()\n",
        "join_mongo.reset_index(level=0, inplace=True)\n",
        "join_collection.insert_many(Diff_laurea.toPandas().to_dict('records'))"
      ],
      "metadata": {
        "id": "BbCZbWwD17E7"
      },
      "execution_count": null,
      "outputs": []
    },
    {
      "cell_type": "markdown",
      "source": [
        "### Analysis 3 Storage: Enrolled students per University"
      ],
      "metadata": {
        "id": "m6G4r7TBziZ8"
      }
    },
    {
      "cell_type": "code",
      "source": [
        "join_collection = nuovodatabase[\"Rilevanza_ateneo_per_regione\"]\n",
        "join_mongo = Num_isc_ateneo.toPandas()\n",
        "join_mongo.reset_index(level=0, inplace=True)\n",
        "join_collection.insert_many(Num_isc_ateneo.toPandas().to_dict('records'))"
      ],
      "metadata": {
        "id": "Mdb5p04r17pe"
      },
      "execution_count": null,
      "outputs": []
    },
    {
      "cell_type": "markdown",
      "source": [
        "### Analysis 4 Storage: Male and Female by Degree"
      ],
      "metadata": {
        "id": "zvjGVbTLzh9f"
      }
    },
    {
      "cell_type": "code",
      "source": [
        "join_collection = nuovodatabase[\"Maschi_e_femmine_per_corso_di_laurea\"]\n",
        "join_mongo = Lau_M_F.toPandas()\n",
        "join_mongo.reset_index(level=0, inplace=True)\n",
        "join_collection.insert_many(Lau_M_F.toPandas().to_dict('records'))"
      ],
      "metadata": {
        "id": "sEPLu5VQ18Sq"
      },
      "execution_count": null,
      "outputs": []
    },
    {
      "cell_type": "markdown",
      "source": [
        "### Analysis 5 Storage: Courses with more graduates"
      ],
      "metadata": {
        "id": "5fKA9hJ7znTL"
      }
    },
    {
      "cell_type": "code",
      "source": [
        "join_collection = nuovodatabase[\"Corsi_con_più_laureati\"]\n",
        "join_mongo = Lau_per_corso.toPandas()\n",
        "join_mongo.reset_index(level=0, inplace=True)\n",
        "join_collection.insert_many(Lau_per_corso.toPandas().to_dict('records'))"
      ],
      "metadata": {
        "id": "XV91ZBuR18tx"
      },
      "execution_count": null,
      "outputs": []
    },
    {
      "cell_type": "markdown",
      "source": [
        "### Analysis 6 Storage: Courses per Regions and Graduates"
      ],
      "metadata": {
        "id": "DNpk8VAgzonu"
      }
    },
    {
      "cell_type": "code",
      "source": [
        "join_collection = nuovodatabase[\"Corsi_più_seguiti_per_regione\"]\n",
        "join_mongo = Lau_corso_reg.toPandas()\n",
        "join_mongo.reset_index(level=0, inplace=True)\n",
        "join_collection.insert_many(Lau_corso_reg.toPandas().to_dict('records'))"
      ],
      "metadata": {
        "id": "C5mmexix19JZ"
      },
      "execution_count": null,
      "outputs": []
    }
  ]
}